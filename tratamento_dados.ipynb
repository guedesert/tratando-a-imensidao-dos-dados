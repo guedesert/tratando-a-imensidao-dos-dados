{
  "nbformat": 4,
  "nbformat_minor": 0,
  "metadata": {
    "colab": {
      "provenance": [],
      "authorship_tag": "ABX9TyM/NFav6lHSpjej+H3tBJsu",
      "include_colab_link": true
    },
    "kernelspec": {
      "name": "python3",
      "display_name": "Python 3"
    },
    "language_info": {
      "name": "python"
    }
  },
  "cells": [
    {
      "cell_type": "markdown",
      "metadata": {
        "id": "view-in-github",
        "colab_type": "text"
      },
      "source": [
        "<a href=\"https://colab.research.google.com/github/guedesert/tratando-a-imensidao-dos-dados/blob/main/tratamento_dados.ipynb\" target=\"_parent\"><img src=\"https://colab.research.google.com/assets/colab-badge.svg\" alt=\"Open In Colab\"/></a>"
      ]
    },
    {
      "cell_type": "markdown",
      "source": [
        "Configuração do Ambiente"
      ],
      "metadata": {
        "id": "jnsWp-z5YYPT"
      }
    },
    {
      "cell_type": "code",
      "execution_count": 11,
      "metadata": {
        "id": "xyWAgUNxWabP"
      },
      "outputs": [],
      "source": [
        "import pandas as pd"
      ]
    },
    {
      "cell_type": "markdown",
      "source": [
        "Importação do arquivo .csv"
      ],
      "metadata": {
        "id": "U0hMjdP-YgLm"
      }
    },
    {
      "cell_type": "code",
      "source": [
        "from google.colab import files\n",
        "uploaded = files.upload()"
      ],
      "metadata": {
        "colab": {
          "base_uri": "https://localhost:8080/",
          "height": 74
        },
        "id": "AhA4OWzcXszg",
        "outputId": "2ead1c08-0d61-4b35-a1e5-d8b0b0edb2f2"
      },
      "execution_count": 13,
      "outputs": [
        {
          "output_type": "display_data",
          "data": {
            "text/plain": [
              "<IPython.core.display.HTML object>"
            ],
            "text/html": [
              "\n",
              "     <input type=\"file\" id=\"files-c68528a5-1352-4972-86fb-7e7e5fd490a9\" name=\"files[]\" multiple disabled\n",
              "        style=\"border:none\" />\n",
              "     <output id=\"result-c68528a5-1352-4972-86fb-7e7e5fd490a9\">\n",
              "      Upload widget is only available when the cell has been executed in the\n",
              "      current browser session. Please rerun this cell to enable.\n",
              "      </output>\n",
              "      <script>// Copyright 2017 Google LLC\n",
              "//\n",
              "// Licensed under the Apache License, Version 2.0 (the \"License\");\n",
              "// you may not use this file except in compliance with the License.\n",
              "// You may obtain a copy of the License at\n",
              "//\n",
              "//      http://www.apache.org/licenses/LICENSE-2.0\n",
              "//\n",
              "// Unless required by applicable law or agreed to in writing, software\n",
              "// distributed under the License is distributed on an \"AS IS\" BASIS,\n",
              "// WITHOUT WARRANTIES OR CONDITIONS OF ANY KIND, either express or implied.\n",
              "// See the License for the specific language governing permissions and\n",
              "// limitations under the License.\n",
              "\n",
              "/**\n",
              " * @fileoverview Helpers for google.colab Python module.\n",
              " */\n",
              "(function(scope) {\n",
              "function span(text, styleAttributes = {}) {\n",
              "  const element = document.createElement('span');\n",
              "  element.textContent = text;\n",
              "  for (const key of Object.keys(styleAttributes)) {\n",
              "    element.style[key] = styleAttributes[key];\n",
              "  }\n",
              "  return element;\n",
              "}\n",
              "\n",
              "// Max number of bytes which will be uploaded at a time.\n",
              "const MAX_PAYLOAD_SIZE = 100 * 1024;\n",
              "\n",
              "function _uploadFiles(inputId, outputId) {\n",
              "  const steps = uploadFilesStep(inputId, outputId);\n",
              "  const outputElement = document.getElementById(outputId);\n",
              "  // Cache steps on the outputElement to make it available for the next call\n",
              "  // to uploadFilesContinue from Python.\n",
              "  outputElement.steps = steps;\n",
              "\n",
              "  return _uploadFilesContinue(outputId);\n",
              "}\n",
              "\n",
              "// This is roughly an async generator (not supported in the browser yet),\n",
              "// where there are multiple asynchronous steps and the Python side is going\n",
              "// to poll for completion of each step.\n",
              "// This uses a Promise to block the python side on completion of each step,\n",
              "// then passes the result of the previous step as the input to the next step.\n",
              "function _uploadFilesContinue(outputId) {\n",
              "  const outputElement = document.getElementById(outputId);\n",
              "  const steps = outputElement.steps;\n",
              "\n",
              "  const next = steps.next(outputElement.lastPromiseValue);\n",
              "  return Promise.resolve(next.value.promise).then((value) => {\n",
              "    // Cache the last promise value to make it available to the next\n",
              "    // step of the generator.\n",
              "    outputElement.lastPromiseValue = value;\n",
              "    return next.value.response;\n",
              "  });\n",
              "}\n",
              "\n",
              "/**\n",
              " * Generator function which is called between each async step of the upload\n",
              " * process.\n",
              " * @param {string} inputId Element ID of the input file picker element.\n",
              " * @param {string} outputId Element ID of the output display.\n",
              " * @return {!Iterable<!Object>} Iterable of next steps.\n",
              " */\n",
              "function* uploadFilesStep(inputId, outputId) {\n",
              "  const inputElement = document.getElementById(inputId);\n",
              "  inputElement.disabled = false;\n",
              "\n",
              "  const outputElement = document.getElementById(outputId);\n",
              "  outputElement.innerHTML = '';\n",
              "\n",
              "  const pickedPromise = new Promise((resolve) => {\n",
              "    inputElement.addEventListener('change', (e) => {\n",
              "      resolve(e.target.files);\n",
              "    });\n",
              "  });\n",
              "\n",
              "  const cancel = document.createElement('button');\n",
              "  inputElement.parentElement.appendChild(cancel);\n",
              "  cancel.textContent = 'Cancel upload';\n",
              "  const cancelPromise = new Promise((resolve) => {\n",
              "    cancel.onclick = () => {\n",
              "      resolve(null);\n",
              "    };\n",
              "  });\n",
              "\n",
              "  // Wait for the user to pick the files.\n",
              "  const files = yield {\n",
              "    promise: Promise.race([pickedPromise, cancelPromise]),\n",
              "    response: {\n",
              "      action: 'starting',\n",
              "    }\n",
              "  };\n",
              "\n",
              "  cancel.remove();\n",
              "\n",
              "  // Disable the input element since further picks are not allowed.\n",
              "  inputElement.disabled = true;\n",
              "\n",
              "  if (!files) {\n",
              "    return {\n",
              "      response: {\n",
              "        action: 'complete',\n",
              "      }\n",
              "    };\n",
              "  }\n",
              "\n",
              "  for (const file of files) {\n",
              "    const li = document.createElement('li');\n",
              "    li.append(span(file.name, {fontWeight: 'bold'}));\n",
              "    li.append(span(\n",
              "        `(${file.type || 'n/a'}) - ${file.size} bytes, ` +\n",
              "        `last modified: ${\n",
              "            file.lastModifiedDate ? file.lastModifiedDate.toLocaleDateString() :\n",
              "                                    'n/a'} - `));\n",
              "    const percent = span('0% done');\n",
              "    li.appendChild(percent);\n",
              "\n",
              "    outputElement.appendChild(li);\n",
              "\n",
              "    const fileDataPromise = new Promise((resolve) => {\n",
              "      const reader = new FileReader();\n",
              "      reader.onload = (e) => {\n",
              "        resolve(e.target.result);\n",
              "      };\n",
              "      reader.readAsArrayBuffer(file);\n",
              "    });\n",
              "    // Wait for the data to be ready.\n",
              "    let fileData = yield {\n",
              "      promise: fileDataPromise,\n",
              "      response: {\n",
              "        action: 'continue',\n",
              "      }\n",
              "    };\n",
              "\n",
              "    // Use a chunked sending to avoid message size limits. See b/62115660.\n",
              "    let position = 0;\n",
              "    do {\n",
              "      const length = Math.min(fileData.byteLength - position, MAX_PAYLOAD_SIZE);\n",
              "      const chunk = new Uint8Array(fileData, position, length);\n",
              "      position += length;\n",
              "\n",
              "      const base64 = btoa(String.fromCharCode.apply(null, chunk));\n",
              "      yield {\n",
              "        response: {\n",
              "          action: 'append',\n",
              "          file: file.name,\n",
              "          data: base64,\n",
              "        },\n",
              "      };\n",
              "\n",
              "      let percentDone = fileData.byteLength === 0 ?\n",
              "          100 :\n",
              "          Math.round((position / fileData.byteLength) * 100);\n",
              "      percent.textContent = `${percentDone}% done`;\n",
              "\n",
              "    } while (position < fileData.byteLength);\n",
              "  }\n",
              "\n",
              "  // All done.\n",
              "  yield {\n",
              "    response: {\n",
              "      action: 'complete',\n",
              "    }\n",
              "  };\n",
              "}\n",
              "\n",
              "scope.google = scope.google || {};\n",
              "scope.google.colab = scope.google.colab || {};\n",
              "scope.google.colab._files = {\n",
              "  _uploadFiles,\n",
              "  _uploadFilesContinue,\n",
              "};\n",
              "})(self);\n",
              "</script> "
            ]
          },
          "metadata": {}
        },
        {
          "output_type": "stream",
          "name": "stdout",
          "text": [
            "Saving dados.csv to dados (3).csv\n"
          ]
        }
      ]
    },
    {
      "cell_type": "markdown",
      "source": [
        "Leitura e exibição de dados do arquivo .csv"
      ],
      "metadata": {
        "id": "VQuR_SIOYkIq"
      }
    },
    {
      "cell_type": "code",
      "source": [
        "df = pd.read_csv(\"dados.csv\", sep=\";\", engine=\"python\")\n",
        "print(df)"
      ],
      "metadata": {
        "colab": {
          "base_uri": "https://localhost:8080/"
        },
        "id": "LUnI3VKHYA7t",
        "outputId": "517e40ed-eb35-4d8e-b781-7d4db398dda3"
      },
      "execution_count": 15,
      "outputs": [
        {
          "output_type": "stream",
          "name": "stdout",
          "text": [
            "    ID  Duration          Date  Pulse  Maxpulse  Calories\n",
            "0    0        60  '2020/12/01'    110       130    4091.0\n",
            "1    1        60  '2020/12/02'    117       145    4790.0\n",
            "2    2        60  '2020/12/03'    103       135    3400.0\n",
            "3    3        45  '2020/12/04'    109       175    2824.0\n",
            "4    4        45  '2020/12/05'    117       148    4060.0\n",
            "5    5        60  '2020/12/06'    102       127    3000.0\n",
            "6    6        60  '2020/12/07'    110       136    3740.0\n",
            "7    7       450  '2020/12/08'    104       134    2533.0\n",
            "8    8        30  '2020/12/09'    109       133    1951.0\n",
            "9    9        60  '2020/12/10'     98       124    2690.0\n",
            "10  10        60  '2020/12/11'    103       147    3293.0\n",
            "11  11        60  '2020/12/12'    100       120    2507.0\n",
            "12  12        60  '2020/12/12'    100       120    2507.0\n",
            "13  13        60  '2020/12/13'    106       128    3453.0\n",
            "14  14        60  '2020/12/14'    104       132    3793.0\n",
            "15  15        60  '2020/12/15'     98       123    2750.0\n",
            "16  16        60  '2020/12/16'     98       120    2152.0\n",
            "17  17        60  '2020/12/17'    100       120    3000.0\n",
            "18  18        45  '2020/12/18'     90       112       NaN\n",
            "19  19        60  '2020/12/19'    103       123    3230.0\n",
            "20  20        45  '2020/12/20'     97       125    2430.0\n",
            "21  21        60  '2020/12/21'    108       131    3642.0\n",
            "22  22        45           NaN    100       119    2820.0\n",
            "23  23        60  '2020/12/23'    130       101    3000.0\n",
            "24  24        45  '2020/12/24'    105       132    2460.0\n",
            "25  25        60  '2020/12/25'    102       126    3345.0\n",
            "26  26        60      20201226    100       120    2500.0\n",
            "27  27        60  '2020/12/27'     92       118    2410.0\n",
            "28  28        60  '2020/12/28'    103       132       NaN\n",
            "29  29        60  '2020/12/29'    100       132    2800.0\n",
            "30  30        60  '2020/12/30'    102       129    3803.0\n",
            "31  31        60  '2020/12/31'     92       115    2430.0\n"
          ]
        }
      ]
    },
    {
      "cell_type": "markdown",
      "source": [
        "Criação de subconjunto de dados"
      ],
      "metadata": {
        "id": "zLI7ZO4waBHV"
      }
    },
    {
      "cell_type": "code",
      "source": [
        "df_subset = df[['ID', 'Duration', 'Calories']]\n",
        "print(df_subset)"
      ],
      "metadata": {
        "colab": {
          "base_uri": "https://localhost:8080/"
        },
        "id": "nij2aAsdZwad",
        "outputId": "9da63efa-2379-4a4b-8e9a-af1c72660e84"
      },
      "execution_count": 16,
      "outputs": [
        {
          "output_type": "stream",
          "name": "stdout",
          "text": [
            "    ID  Duration  Calories\n",
            "0    0        60    4091.0\n",
            "1    1        60    4790.0\n",
            "2    2        60    3400.0\n",
            "3    3        45    2824.0\n",
            "4    4        45    4060.0\n",
            "5    5        60    3000.0\n",
            "6    6        60    3740.0\n",
            "7    7       450    2533.0\n",
            "8    8        30    1951.0\n",
            "9    9        60    2690.0\n",
            "10  10        60    3293.0\n",
            "11  11        60    2507.0\n",
            "12  12        60    2507.0\n",
            "13  13        60    3453.0\n",
            "14  14        60    3793.0\n",
            "15  15        60    2750.0\n",
            "16  16        60    2152.0\n",
            "17  17        60    3000.0\n",
            "18  18        45       NaN\n",
            "19  19        60    3230.0\n",
            "20  20        45    2430.0\n",
            "21  21        60    3642.0\n",
            "22  22        45    2820.0\n",
            "23  23        60    3000.0\n",
            "24  24        45    2460.0\n",
            "25  25        60    3345.0\n",
            "26  26        60    2500.0\n",
            "27  27        60    2410.0\n",
            "28  28        60       NaN\n",
            "29  29        60    2800.0\n",
            "30  30        60    3803.0\n",
            "31  31        60    2430.0\n"
          ]
        }
      ]
    },
    {
      "cell_type": "markdown",
      "source": [
        "Definição de número máximo de linhas"
      ],
      "metadata": {
        "id": "2eHsrNDOaKj3"
      }
    },
    {
      "cell_type": "code",
      "source": [
        "pd.set_option('display.max_rows', 9999)\n",
        "print(df.to_string())"
      ],
      "metadata": {
        "colab": {
          "base_uri": "https://localhost:8080/"
        },
        "id": "betiIRf3aNMa",
        "outputId": "d4de45bc-1a73-4aa8-90ec-7fcb3a30e6e8"
      },
      "execution_count": 18,
      "outputs": [
        {
          "output_type": "stream",
          "name": "stdout",
          "text": [
            "    ID  Duration          Date  Pulse  Maxpulse  Calories\n",
            "0    0        60  '2020/12/01'    110       130    4091.0\n",
            "1    1        60  '2020/12/02'    117       145    4790.0\n",
            "2    2        60  '2020/12/03'    103       135    3400.0\n",
            "3    3        45  '2020/12/04'    109       175    2824.0\n",
            "4    4        45  '2020/12/05'    117       148    4060.0\n",
            "5    5        60  '2020/12/06'    102       127    3000.0\n",
            "6    6        60  '2020/12/07'    110       136    3740.0\n",
            "7    7       450  '2020/12/08'    104       134    2533.0\n",
            "8    8        30  '2020/12/09'    109       133    1951.0\n",
            "9    9        60  '2020/12/10'     98       124    2690.0\n",
            "10  10        60  '2020/12/11'    103       147    3293.0\n",
            "11  11        60  '2020/12/12'    100       120    2507.0\n",
            "12  12        60  '2020/12/12'    100       120    2507.0\n",
            "13  13        60  '2020/12/13'    106       128    3453.0\n",
            "14  14        60  '2020/12/14'    104       132    3793.0\n",
            "15  15        60  '2020/12/15'     98       123    2750.0\n",
            "16  16        60  '2020/12/16'     98       120    2152.0\n",
            "17  17        60  '2020/12/17'    100       120    3000.0\n",
            "18  18        45  '2020/12/18'     90       112       NaN\n",
            "19  19        60  '2020/12/19'    103       123    3230.0\n",
            "20  20        45  '2020/12/20'     97       125    2430.0\n",
            "21  21        60  '2020/12/21'    108       131    3642.0\n",
            "22  22        45           NaN    100       119    2820.0\n",
            "23  23        60  '2020/12/23'    130       101    3000.0\n",
            "24  24        45  '2020/12/24'    105       132    2460.0\n",
            "25  25        60  '2020/12/25'    102       126    3345.0\n",
            "26  26        60      20201226    100       120    2500.0\n",
            "27  27        60  '2020/12/27'     92       118    2410.0\n",
            "28  28        60  '2020/12/28'    103       132       NaN\n",
            "29  29        60  '2020/12/29'    100       132    2800.0\n",
            "30  30        60  '2020/12/30'    102       129    3803.0\n",
            "31  31        60  '2020/12/31'     92       115    2430.0\n"
          ]
        }
      ]
    },
    {
      "cell_type": "markdown",
      "source": [
        "Exibição das primeiras e últimas linhas dos dados"
      ],
      "metadata": {
        "id": "L8fJxi0vaS-b"
      }
    },
    {
      "cell_type": "code",
      "source": [
        "print(df.head(10))\n",
        "print(df.tail(10))"
      ],
      "metadata": {
        "colab": {
          "base_uri": "https://localhost:8080/"
        },
        "id": "NpK6M6y7aYvG",
        "outputId": "dd177d56-f358-40db-f619-9d1016e6ff8e"
      },
      "execution_count": 19,
      "outputs": [
        {
          "output_type": "stream",
          "name": "stdout",
          "text": [
            "   ID  Duration          Date  Pulse  Maxpulse  Calories\n",
            "0   0        60  '2020/12/01'    110       130    4091.0\n",
            "1   1        60  '2020/12/02'    117       145    4790.0\n",
            "2   2        60  '2020/12/03'    103       135    3400.0\n",
            "3   3        45  '2020/12/04'    109       175    2824.0\n",
            "4   4        45  '2020/12/05'    117       148    4060.0\n",
            "5   5        60  '2020/12/06'    102       127    3000.0\n",
            "6   6        60  '2020/12/07'    110       136    3740.0\n",
            "7   7       450  '2020/12/08'    104       134    2533.0\n",
            "8   8        30  '2020/12/09'    109       133    1951.0\n",
            "9   9        60  '2020/12/10'     98       124    2690.0\n",
            "    ID  Duration          Date  Pulse  Maxpulse  Calories\n",
            "22  22        45           NaN    100       119    2820.0\n",
            "23  23        60  '2020/12/23'    130       101    3000.0\n",
            "24  24        45  '2020/12/24'    105       132    2460.0\n",
            "25  25        60  '2020/12/25'    102       126    3345.0\n",
            "26  26        60      20201226    100       120    2500.0\n",
            "27  27        60  '2020/12/27'     92       118    2410.0\n",
            "28  28        60  '2020/12/28'    103       132       NaN\n",
            "29  29        60  '2020/12/29'    100       132    2800.0\n",
            "30  30        60  '2020/12/30'    102       129    3803.0\n",
            "31  31        60  '2020/12/31'     92       115    2430.0\n"
          ]
        }
      ]
    },
    {
      "cell_type": "markdown",
      "source": [
        "Informações gerais sobre os dados"
      ],
      "metadata": {
        "id": "-fjXD9N5afVv"
      }
    },
    {
      "cell_type": "code",
      "source": [
        "print(df.info())\n",
        "print(df.describe())"
      ],
      "metadata": {
        "colab": {
          "base_uri": "https://localhost:8080/"
        },
        "id": "wlszYKtFae7I",
        "outputId": "a88270fa-027e-4657-b115-fe6680a1794c"
      },
      "execution_count": 20,
      "outputs": [
        {
          "output_type": "stream",
          "name": "stdout",
          "text": [
            "<class 'pandas.core.frame.DataFrame'>\n",
            "RangeIndex: 32 entries, 0 to 31\n",
            "Data columns (total 6 columns):\n",
            " #   Column    Non-Null Count  Dtype  \n",
            "---  ------    --------------  -----  \n",
            " 0   ID        32 non-null     int64  \n",
            " 1   Duration  32 non-null     int64  \n",
            " 2   Date      31 non-null     object \n",
            " 3   Pulse     32 non-null     int64  \n",
            " 4   Maxpulse  32 non-null     int64  \n",
            " 5   Calories  30 non-null     float64\n",
            "dtypes: float64(1), int64(4), object(1)\n",
            "memory usage: 1.6+ KB\n",
            "None\n",
            "              ID    Duration       Pulse    Maxpulse     Calories\n",
            "count  32.000000   32.000000   32.000000   32.000000    30.000000\n",
            "mean   15.500000   68.437500  103.500000  128.500000  3046.800000\n",
            "std     9.380832   70.039591    7.832933   12.998759   660.037794\n",
            "min     0.000000   30.000000   90.000000  101.000000  1951.000000\n",
            "25%     7.750000   60.000000  100.000000  120.000000  2507.000000\n",
            "50%    15.500000   60.000000  102.500000  127.500000  2912.000000\n",
            "75%    23.250000   60.000000  106.500000  132.250000  3439.750000\n",
            "max    31.000000  450.000000  130.000000  175.000000  4790.000000\n"
          ]
        }
      ]
    },
    {
      "cell_type": "markdown",
      "source": [
        "Substituir valores nulos na coluna Calories por 0"
      ],
      "metadata": {
        "id": "Pme2EJ-paogJ"
      }
    },
    {
      "cell_type": "code",
      "source": [
        "df['Calories'] = df['Calories'].fillna(0)"
      ],
      "metadata": {
        "id": "4wD3EbiQaqOm"
      },
      "execution_count": 22,
      "outputs": []
    },
    {
      "cell_type": "markdown",
      "source": [
        "Substituir valores nulos na coluna Date por 1900/01/01"
      ],
      "metadata": {
        "id": "XUV5xZG_bMcc"
      }
    },
    {
      "cell_type": "code",
      "source": [
        "df['Date'] = df['Date'].fillna('1900/01/01')"
      ],
      "metadata": {
        "id": "3clBbAvnbQcT"
      },
      "execution_count": 23,
      "outputs": []
    },
    {
      "cell_type": "markdown",
      "source": [
        "Converter a coluna Date para formato de data"
      ],
      "metadata": {
        "id": "eF7riahjbaoE"
      }
    },
    {
      "cell_type": "code",
      "source": [
        "df['Date'] = df['Date'].astype(str)\n",
        "df['Date'] = df['Date'].str.replace(\"'\", \"\")\n",
        "df['Date'] = pd.to_datetime(df['Date'], errors='coerce')"
      ],
      "metadata": {
        "id": "I0wsvtxmbeA8"
      },
      "execution_count": 28,
      "outputs": []
    },
    {
      "cell_type": "markdown",
      "source": [
        "Corrigir a Data 20201226"
      ],
      "metadata": {
        "id": "goSWkj1Gbmqn"
      }
    },
    {
      "cell_type": "code",
      "source": [
        "df.loc[df['Date'] == pd.Timestamp('20201226'), 'Date'] = '2020/12/26'\n",
        "df['Date'] = pd.to_datetime(df['Date'], errors='coerce')"
      ],
      "metadata": {
        "id": "hNP25YUGbmVS"
      },
      "execution_count": 29,
      "outputs": []
    },
    {
      "cell_type": "markdown",
      "source": [
        "Remover linhas com valores nulos"
      ],
      "metadata": {
        "id": "Yo_Ivk8LbtH7"
      }
    },
    {
      "cell_type": "code",
      "source": [
        "df.dropna(subset=['Date'], inplace=True)"
      ],
      "metadata": {
        "id": "QbAnPTj9eBWf"
      },
      "execution_count": 30,
      "outputs": []
    },
    {
      "cell_type": "markdown",
      "source": [
        "Exibir os dados finalizados"
      ],
      "metadata": {
        "id": "2KB3jtuLeH6n"
      }
    },
    {
      "cell_type": "code",
      "source": [
        "print(df)"
      ],
      "metadata": {
        "colab": {
          "base_uri": "https://localhost:8080/"
        },
        "id": "FxcDPgWMeK-J",
        "outputId": "621f9c96-2530-434e-f79a-fa41fa36f883"
      },
      "execution_count": 31,
      "outputs": [
        {
          "output_type": "stream",
          "name": "stdout",
          "text": [
            "    ID  Duration       Date  Pulse  Maxpulse  Calories\n",
            "0    0        60 2020-12-01    110       130    4091.0\n",
            "1    1        60 2020-12-02    117       145    4790.0\n",
            "2    2        60 2020-12-03    103       135    3400.0\n",
            "3    3        45 2020-12-04    109       175    2824.0\n",
            "4    4        45 2020-12-05    117       148    4060.0\n",
            "5    5        60 2020-12-06    102       127    3000.0\n",
            "6    6        60 2020-12-07    110       136    3740.0\n",
            "7    7       450 2020-12-08    104       134    2533.0\n",
            "8    8        30 2020-12-09    109       133    1951.0\n",
            "9    9        60 2020-12-10     98       124    2690.0\n",
            "10  10        60 2020-12-11    103       147    3293.0\n",
            "11  11        60 2020-12-12    100       120    2507.0\n",
            "12  12        60 2020-12-12    100       120    2507.0\n",
            "13  13        60 2020-12-13    106       128    3453.0\n",
            "14  14        60 2020-12-14    104       132    3793.0\n",
            "15  15        60 2020-12-15     98       123    2750.0\n",
            "16  16        60 2020-12-16     98       120    2152.0\n",
            "17  17        60 2020-12-17    100       120    3000.0\n",
            "18  18        45 2020-12-18     90       112       0.0\n",
            "19  19        60 2020-12-19    103       123    3230.0\n",
            "20  20        45 2020-12-20     97       125    2430.0\n",
            "21  21        60 2020-12-21    108       131    3642.0\n",
            "22  22        45 1900-01-01    100       119    2820.0\n",
            "23  23        60 2020-12-23    130       101    3000.0\n",
            "24  24        45 2020-12-24    105       132    2460.0\n",
            "25  25        60 2020-12-25    102       126    3345.0\n",
            "27  27        60 2020-12-27     92       118    2410.0\n",
            "28  28        60 2020-12-28    103       132       0.0\n",
            "29  29        60 2020-12-29    100       132    2800.0\n",
            "30  30        60 2020-12-30    102       129    3803.0\n",
            "31  31        60 2020-12-31     92       115    2430.0\n"
          ]
        }
      ]
    }
  ]
}